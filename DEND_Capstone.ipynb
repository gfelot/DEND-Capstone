{
  "nbformat": 4,
  "nbformat_minor": 0,
  "metadata": {
    "colab": {
      "name": "DEND_Capstone.ipynb",
      "version": "0.3.2",
      "provenance": [],
      "collapsed_sections": [],
      "toc_visible": true,
      "machine_shape": "hm"
    },
    "kernelspec": {
      "name": "python3",
      "display_name": "Python 3"
    },
    "accelerator": "GPU"
  },
  "cells": [
    {
      "cell_type": "markdown",
      "metadata": {
        "id": "tk7O6CViwlqs",
        "colab_type": "text"
      },
      "source": [
        "# DEND Capstone project"
      ]
    },
    {
      "cell_type": "markdown",
      "metadata": {
        "id": "ulUBckQ3O4E_",
        "colab_type": "text"
      },
      "source": [
        "##Introduction\n",
        "\n",
        "###Iowa Liquor Sales from Kaggle\n",
        "\n",
        "https://www.kaggle.com/residentmario/iowa-liquor-sales\n",
        "\n",
        "\n",
        "**Disclaimer**\n",
        ">I will use a slightly modifiyed version of the original file. The reason behind this is when I started this project I used `pandas` but figured out that it was not optimal enough (memory usage issue) and switch to spark instead.\n",
        ">\n",
        ">The original file there is a column named **Store Location** (containing GPS coordinates + the full address => `1013 MAIN\\nKEOKUK 52632\\n(40.39978, -91.387531)`) where there is `\\n` char inside. While pandas is able to reconize a string containing `\\n` as a whole value, spark is more strict and stick with the CSV standard. The dataframe with spark was totally messed up.\n",
        ">\n",
        ">Since I don't have control over the data production, I simply load the csv into pandas on my local machine, drop this column and write a new csv that is available on S3.\n",
        ">\n",
        ">If you want to play this Notebook you gonna need to do the same or download the modofiyed version [here](https://drive.google.com/open?id=1xg3LNf4soTNh848ZV8aKjk1FkTt8M5ye).\n",
        "\n",
        "To be able to ETL this file we need to get information about. This file is quite challenging since its ~3.5GB and +12 Millions rows to wrangle. A little bit too much for a single computer if we want acceptable time efficiency but doesn't need a big cluster either. That's why I decided to work on this project with Spark for the calculated distribution capabilities but on this powerful Notebook from Google and not have to setup something on a cloud provider like Azure, AWS or GCP."
      ]
    },
    {
      "cell_type": "markdown",
      "metadata": {
        "id": "yi6fwUr-tmdL",
        "colab_type": "text"
      },
      "source": [
        "## Explore the Dataset\n",
        "\n",
        "\n",
        "I will first get informations about the data type of each columns and explore the dataset. We can work on the first 20 rows to get insight then refine the dataset with the observation made."
      ]
    },
    {
      "cell_type": "markdown",
      "metadata": {
        "id": "1_yMFnCeaO5B",
        "colab_type": "text"
      },
      "source": [
        "### Installation of the needed package"
      ]
    },
    {
      "cell_type": "code",
      "metadata": {
        "id": "DSARgU0CwqpR",
        "colab_type": "code",
        "colab": {}
      },
      "source": [
        "!apt-get install openjdk-8-jdk-headless -qq > /dev/null\n",
        "!wget -q https://www-eu.apache.org/dist/spark/spark-2.4.3/spark-2.4.3-bin-hadoop2.7.tgz\n",
        "!tar xf spark-2.4.3-bin-hadoop2.7.tgz\n",
        "!pip install -q findspark"
      ],
      "execution_count": 0,
      "outputs": []
    },
    {
      "cell_type": "markdown",
      "metadata": {
        "id": "VLYSxrfOaSyB",
        "colab_type": "text"
      },
      "source": [
        "### Setup environnement variable"
      ]
    },
    {
      "cell_type": "code",
      "metadata": {
        "id": "yRXrJb7hxppj",
        "colab_type": "code",
        "colab": {}
      },
      "source": [
        "import os\n",
        "os.environ[\"JAVA_HOME\"] = \"/usr/lib/jvm/java-8-openjdk-amd64\"\n",
        "os.environ[\"SPARK_HOME\"] = \"/content/spark-2.4.3-bin-hadoop2.7\"\n",
        "\n",
        "# This line install 2 package to pyspark when it's first load\n",
        "os.environ['PYSPARK_SUBMIT_ARGS'] = '--packages com.amazonaws:aws-java-sdk:1.11.612,org.apache.hadoop:hadoop-aws:2.6.5 pyspark-shell'"
      ],
      "execution_count": 0,
      "outputs": []
    },
    {
      "cell_type": "markdown",
      "metadata": {
        "id": "BSUzUpueaZDK",
        "colab_type": "text"
      },
      "source": [
        "### Setup Spark"
      ]
    },
    {
      "cell_type": "code",
      "metadata": {
        "id": "kBp4CzuzyPZF",
        "colab_type": "code",
        "colab": {}
      },
      "source": [
        "# Using findspark to locate my spark installation automaticaly\n",
        "import findspark\n",
        "findspark.init()\n",
        "import pyspark\n",
        "from pyspark.sql import SparkSession\n",
        "\n",
        "# Build a SparkSession using all the core (GPU here) available on this VM.\n",
        "# You can change for your own Spark instance on the cloud if wanted.\n",
        "spark = SparkSession.builder.appName(\"DEND_Capstone\").master(\"local[*]\").getOrCreate()\n",
        "\n",
        "# Enable Arrow-based columnar data transfers\n",
        "# https://spark.apache.org/docs/latest/sql-pyspark-pandas-with-arrow.html\n",
        "# spark.conf.set(\"spark.sql.execution.arrow.enabled\", \"true\")"
      ],
      "execution_count": 0,
      "outputs": []
    },
    {
      "cell_type": "markdown",
      "metadata": {
        "id": "1g0vNV0Famiv",
        "colab_type": "text"
      },
      "source": [
        "### Upload AWS IAM credential"
      ]
    },
    {
      "cell_type": "code",
      "metadata": {
        "id": "v6F_cUS5C-yn",
        "colab_type": "code",
        "colab": {}
      },
      "source": [
        "# This snippet is from Google to let upload a file into the session\n",
        "# Few time the JS fail to load  ¯\\_(ツ)_/¯  . It's a known issue - just launch the cell a second time will make it work\n",
        "\n",
        "# Create an IAM AWS User with the permision AmazonS3FullAccess\n",
        "# Get the csv file as credential.csv ready to upload here\n",
        "from google.colab import files\n",
        "files.upload()"
      ],
      "execution_count": 0,
      "outputs": []
    },
    {
      "cell_type": "code",
      "metadata": {
        "id": "1rdBQjp0DH1T",
        "colab_type": "code",
        "colab": {}
      },
      "source": [
        "import pandas as pd\n",
        "\n",
        "aws = pd.read_csv('credentials.csv')\n",
        "\n",
        "spark.sparkContext._jsc.hadoopConfiguration().set('fs.s3a.access.key', aws.iloc[0][2])\n",
        "spark.sparkContext._jsc.hadoopConfiguration().set('fs.s3a.secret.key', aws.iloc[0][3])"
      ],
      "execution_count": 0,
      "outputs": []
    },
    {
      "cell_type": "markdown",
      "metadata": {
        "id": "bZA4xyRPata3",
        "colab_type": "text"
      },
      "source": [
        "### Load the modifiyed csv"
      ]
    },
    {
      "cell_type": "markdown",
      "metadata": {
        "id": "X8tyfzSsa3fd",
        "colab_type": "text"
      },
      "source": [
        "You gonna need to change the path with your S3 URL if you want to follow the process"
      ]
    },
    {
      "cell_type": "code",
      "metadata": {
        "id": "Q0WPvqOt2kUz",
        "colab_type": "code",
        "colab": {}
      },
      "source": [
        "# Read the modified csv file from S3 bucket\n",
        "path = \"s3a://capstone-dend/data.csv\"\n",
        "ddf = spark.read.csv(path, inferSchema=True, header=True)\n",
        "\n",
        "ddf.show()"
      ],
      "execution_count": 0,
      "outputs": []
    },
    {
      "cell_type": "code",
      "metadata": {
        "id": "zzJDyg07SnPn",
        "colab_type": "code",
        "colab": {}
      },
      "source": [
        "# A lookup to the data types\n",
        "ddf.dtypes"
      ],
      "execution_count": 0,
      "outputs": []
    },
    {
      "cell_type": "markdown",
      "metadata": {
        "id": "UfDPkuX6UGU5",
        "colab_type": "text"
      },
      "source": [
        "## Sample Analysis\n",
        "\n",
        "From this **sample** I can start to come to some conclusion :\n",
        "\n",
        "1. I can identify the column's name easily and start guessing the data type of each columns. That will speed up the reading of the full dataset later. I will also reformat the columns names to lowercase to be more clear and consistent.\n",
        "\n",
        "2. The column `Invoice/Item Number` seems to be a unique identifier that I can use for each rows. Change the name of the column to be `id` and use it later to identify each payment for the fact table.\n",
        "3. `Date` is obviously a date format that I have to be converted from `string` to `date`.\n",
        "4. `ZipCode` is automatically typed as `string` because despite most of the data look like a numeric value, as attended, we have row 9 : `712-2`. I quick search on my favourite search engine [Qwant](www.qwant.com) shows me that it's an Area Code and not a Zip Code. I will convert this colum as a numeric type and then consider `NaN` a non numeric value for the Area Code.\n",
        "5. Since there is some errors to handle on the **Store Location** column that I drop from the original dataset, I will use the [Geocoding Google API](https://developers.google.com/maps/documentation/geocoding/intro) to create a `Lat`, `Lon` columns with the right values later in the ETL process.\n",
        "6. For future calculation it's going to be easier if the currency value is treated as numeric. I need to get rid of the dollard sign and convert the value as cents to handle integer instead of float (Bank and fintech use this optimization to handle billions of transaction with less memory usage).\n",
        "7. We have the bottle volume as **ml** (milliliter) and we have total `Volume Sold` in both **liters** and **gallons**. I prefer to use the [SI](https://en.wikipedia.org/wiki/International_System_of_Units) units for more convinence. So I will get rid of the extra column in **gallon**'s unit and convert the **liter** unit to **ml** for the same reason as the currency column's values.\n",
        "\n",
        "*Let try to do this 7 steps on this sample data. That will be useful for the final ETL in a wrangling step.*\n"
      ]
    },
    {
      "cell_type": "markdown",
      "metadata": {
        "id": "F1KULH7tdaei",
        "colab_type": "text"
      },
      "source": [
        "## Date Wrangling"
      ]
    },
    {
      "cell_type": "markdown",
      "metadata": {
        "id": "xtVmriIUvdFc",
        "colab_type": "text"
      },
      "source": [
        "### Step 1 - Normalize the column's name"
      ]
    },
    {
      "cell_type": "code",
      "metadata": {
        "id": "LCBz8xrTBsw5",
        "colab_type": "code",
        "colab": {}
      },
      "source": [
        "# First let's format headers name more clearly\n",
        "ddf = ddf.toDF(*[c.strip().lower().replace(' ', '_').replace('(', '').replace(')', '') for c in ddf.columns])\n",
        "ddf.columns"
      ],
      "execution_count": 0,
      "outputs": []
    },
    {
      "cell_type": "markdown",
      "metadata": {
        "id": "BQVQCTvIvkLM",
        "colab_type": "text"
      },
      "source": [
        "### Step 2 - Renaming column to `id`"
      ]
    },
    {
      "cell_type": "code",
      "metadata": {
        "id": "rtTK7KMXzNAT",
        "colab_type": "code",
        "colab": {}
      },
      "source": [
        "ddf1 = ddf.withColumnRenamed('invoice/item_number','id')"
      ],
      "execution_count": 0,
      "outputs": []
    },
    {
      "cell_type": "markdown",
      "metadata": {
        "id": "ntVmvjc_vtJS",
        "colab_type": "text"
      },
      "source": [
        "### Step 3 - Casting `date` column to a date type"
      ]
    },
    {
      "cell_type": "code",
      "metadata": {
        "id": "IDdSO1GQn1G-",
        "colab_type": "code",
        "colab": {}
      },
      "source": [
        "from pyspark.sql.functions import to_date, col\n",
        "\n",
        "ddf2 = ddf1.withColumn(\"date\", to_date(col(\"date\"), \"MM/dd/yyyy\"))\n",
        "ddf2.show(n=10)\n",
        "ddf2.dtypes"
      ],
      "execution_count": 0,
      "outputs": []
    },
    {
      "cell_type": "markdown",
      "metadata": {
        "id": "nCQEA1_rwCPg",
        "colab_type": "text"
      },
      "source": [
        "### Step 4 - Casting `zip_code` to `int` "
      ]
    },
    {
      "cell_type": "code",
      "metadata": {
        "id": "JS68ulZofZBq",
        "colab_type": "code",
        "colab": {}
      },
      "source": [
        "from pyspark.sql.types import IntegerType\n",
        "\n",
        "ddf3 = ddf2.withColumn(\"zip_code\", ddf2[\"zip_code\"].cast(IntegerType()))\n",
        "ddf3.show(n=10)\n",
        "ddf3.dtypes\n",
        "\n",
        "# #  df.filter(df[\"age\"]>24).show()lambda ((l,v), i): i == myIndex\n",
        "# ddf3.filter(ddf3['id'] == 'S03816000008').show()"
      ],
      "execution_count": 0,
      "outputs": []
    },
    {
      "cell_type": "markdown",
      "metadata": {
        "id": "iRoXLPr6wOj9",
        "colab_type": "text"
      },
      "source": [
        "### Step 5 - Doing later"
      ]
    },
    {
      "cell_type": "markdown",
      "metadata": {
        "id": "BVJLCFrpxakG",
        "colab_type": "text"
      },
      "source": [
        "### Step 6 - Working on currency columns"
      ]
    },
    {
      "cell_type": "markdown",
      "metadata": {
        "id": "0R4fvrm6wYuI",
        "colab_type": "text"
      },
      "source": [
        "#### Step 6.1.a - Removing the dollard sign to `State Bottle Cost` "
      ]
    },
    {
      "cell_type": "code",
      "metadata": {
        "id": "V-5ESb7Rh3xl",
        "colab_type": "code",
        "colab": {}
      },
      "source": [
        "from pyspark.sql.functions import expr\n",
        "\n",
        "ddf4 = ddf3.withColumn('state_bottle_cost', expr(\"substring(state_bottle_cost, 2, length(state_bottle_cost))\"))\n",
        "\n",
        "ddf4.show()"
      ],
      "execution_count": 0,
      "outputs": []
    },
    {
      "cell_type": "markdown",
      "metadata": {
        "id": "phuv77_Ww3zt",
        "colab_type": "text"
      },
      "source": [
        "#### Step 6.1.b - Converting to `int` as cent"
      ]
    },
    {
      "cell_type": "code",
      "metadata": {
        "id": "khy03qwgXRda",
        "colab_type": "code",
        "colab": {}
      },
      "source": [
        "from pyspark.sql.types import DoubleType\n",
        "\n",
        "ddf5 = ddf4.withColumn('state_bottle_cost', ddf4['state_bottle_cost'].cast(DoubleType()))\n",
        "ddf5 = ddf5.withColumn('state_bottle_cost', (col('state_bottle_cost') * 100.0))\n",
        "ddf5 = ddf5.withColumn('state_bottle_cost', ddf5['state_bottle_cost'].cast(IntegerType()))\n",
        "\n",
        "\n",
        "ddf5.show(n=10)"
      ],
      "execution_count": 0,
      "outputs": []
    },
    {
      "cell_type": "markdown",
      "metadata": {
        "id": "13TCHTuPwtXH",
        "colab_type": "text"
      },
      "source": [
        "#### Step 6.2.a - Removing the dollard sign to `State Bottle Retail` "
      ]
    },
    {
      "cell_type": "code",
      "metadata": {
        "id": "fOxv24VlllKC",
        "colab_type": "code",
        "colab": {}
      },
      "source": [
        "ddf6 = ddf5.withColumn('state_bottle_retail', expr(\"substring(state_bottle_retail, 2, length(state_bottle_retail))\"))"
      ],
      "execution_count": 0,
      "outputs": []
    },
    {
      "cell_type": "markdown",
      "metadata": {
        "id": "rBpZL-vfxAre",
        "colab_type": "text"
      },
      "source": [
        "#### Step 6.2.b - Casting to `int` as cent"
      ]
    },
    {
      "cell_type": "code",
      "metadata": {
        "id": "-hsCNI_NoSOB",
        "colab_type": "code",
        "colab": {}
      },
      "source": [
        "ddf7 = ddf6.withColumn('state_bottle_retail', ddf6['state_bottle_retail'].cast(DoubleType()))\n",
        "ddf7 = ddf7.withColumn('state_bottle_retail', (col('state_bottle_retail') * 100.0))\n",
        "ddf7 = ddf7.withColumn('state_bottle_retail', ddf7['state_bottle_retail'].cast(IntegerType()))"
      ],
      "execution_count": 0,
      "outputs": []
    },
    {
      "cell_type": "markdown",
      "metadata": {
        "id": "VlDOuK6Dwxyc",
        "colab_type": "text"
      },
      "source": [
        "#### Step 6.3.a - Removing the dollard sign to `Sale (Dollars)` "
      ]
    },
    {
      "cell_type": "code",
      "metadata": {
        "id": "MxBE27ZWc5Ua",
        "colab_type": "code",
        "colab": {}
      },
      "source": [
        "ddf8 = ddf7.withColumn('sale_dollars', expr(\"substring(sale_dollars, 2, length(sale_dollars))\"))"
      ],
      "execution_count": 0,
      "outputs": []
    },
    {
      "cell_type": "markdown",
      "metadata": {
        "id": "QWd6Sw4KxCXL",
        "colab_type": "text"
      },
      "source": [
        "#### Step 6.3.b - Casting to `int` as cent"
      ]
    },
    {
      "cell_type": "code",
      "metadata": {
        "id": "XiArY_6gc7Hc",
        "colab_type": "code",
        "colab": {}
      },
      "source": [
        "ddf9 = ddf8.withColumn('sale_dollars', ddf8['sale_dollars'].cast(DoubleType()))\n",
        "ddf9 = ddf9.withColumn('sale_dollars', (col('sale_dollars') * 100.0))\n",
        "ddf9 = ddf9.withColumn('sale_dollars', ddf9['sale_dollars'].cast(IntegerType()))\n",
        "\n",
        "ddf9 = ddf9.withColumnRenamed('sale_dollars', 'sale')\n",
        "\n",
        "ddf9.show(n=10)"
      ],
      "execution_count": 0,
      "outputs": []
    },
    {
      "cell_type": "markdown",
      "metadata": {
        "id": "SN4zfC7xxF7L",
        "colab_type": "text"
      },
      "source": [
        "### Step 7 - Dropping gallon column and casting liter to ml"
      ]
    },
    {
      "cell_type": "code",
      "metadata": {
        "id": "A9hBXJHGdnkJ",
        "colab_type": "code",
        "colab": {}
      },
      "source": [
        "ddf10 = ddf9.drop('volume_sold_gallons')\n",
        "\n",
        "ddf11 = ddf10.withColumn('volume_sold_liters', ddf10['volume_sold_liters'].cast(DoubleType()))\n",
        "ddf11 = ddf11.withColumn('volume_sold_liters', (col('volume_sold_liters') * 100.0))\n",
        "ddf11 = ddf11.withColumn('volume_sold_liters', ddf11['volume_sold_liters'].cast(IntegerType()))\n",
        "\n",
        "ddf11 = ddf11.withColumnRenamed('volume_sold_liters', 'volume_sold_ml')\n",
        "\n",
        "ddf11.show(n=10)"
      ],
      "execution_count": 0,
      "outputs": []
    },
    {
      "cell_type": "code",
      "metadata": {
        "id": "g8293Y89hbu9",
        "colab_type": "code",
        "colab": {}
      },
      "source": [
        "# last look to the final data type\n",
        "ddf11.dtypes"
      ],
      "execution_count": 0,
      "outputs": []
    },
    {
      "cell_type": "markdown",
      "metadata": {
        "id": "-VMHgf2Uxza4",
        "colab_type": "text"
      },
      "source": [
        "### Check for null values"
      ]
    },
    {
      "cell_type": "code",
      "metadata": {
        "id": "CglnsR3_d8Za",
        "colab_type": "code",
        "colab": {}
      },
      "source": [
        "from pyspark.sql.functions import isnan, isnull, when, count, col\n",
        "\n",
        "ddf11.select([count(when(isnull(c), c)).alias(c) for c in ddf11.columns]).show()"
      ],
      "execution_count": 0,
      "outputs": []
    },
    {
      "cell_type": "markdown",
      "metadata": {
        "id": "6EAYzxiJx9q-",
        "colab_type": "text"
      },
      "source": [
        "Some column can have null values like the address and city. It's OK if I cannot geolocate some store.\n",
        "\n",
        "I can also, in a real production work, extract the data where there is missing values like for the liquor category that is missing and correct the data later.\n",
        "\n",
        "But mising data from the sale column is more problematic.\n",
        "\n",
        "With only 12 rows overs several millions I can drop those missing value.\n",
        "\n",
        "But in a real business case I will inform the right business unit to track the error and try to correct the data. \n"
      ]
    },
    {
      "cell_type": "code",
      "metadata": {
        "id": "dAx08WRZ-UY-",
        "colab_type": "code",
        "colab": {}
      },
      "source": [
        "ddf12 = ddf11.dropna(subset=('sale'))\n",
        "ddf12.select([count(when(isnull(c), c)).alias(c) for c in ddf11.columns]).show()"
      ],
      "execution_count": 0,
      "outputs": []
    },
    {
      "cell_type": "markdown",
      "metadata": {
        "id": "7KcRWVTpLIgH",
        "colab_type": "text"
      },
      "source": [
        "With this correction there no more null values that can cause any issue."
      ]
    },
    {
      "cell_type": "markdown",
      "metadata": {
        "id": "VL9cZZrTyKAw",
        "colab_type": "text"
      },
      "source": [
        "### Looking for `id` column patern\n",
        "\n",
        "I want to check if my first guess about the `id` column that have the same patern for every transaction is right. If there is many different patern I will need to keep the old `id` for historical purpose but I will have to add a second `id` system."
      ]
    },
    {
      "cell_type": "code",
      "metadata": {
        "id": "RGb_Ry4NDTXo",
        "colab_type": "code",
        "colab": {}
      },
      "source": [
        "# # The column id is made with a patern of a string starting by 'S' then 11 number like S29198800001.\n",
        "# # Let check is every id's value look like this.\n",
        "\n",
        "expr = r'S[0-9]{11}'\n",
        "ddf_id = ddf12.filter(~ddf12['id'].rlike(expr))\n",
        "ddf_id.show()"
      ],
      "execution_count": 0,
      "outputs": []
    },
    {
      "cell_type": "markdown",
      "metadata": {
        "id": "OJLuBYMAzAJK",
        "colab_type": "text"
      },
      "source": [
        "My first guess was wrong, there is more than 1 kind of `id` patern. I will then use another id system to have concistency and rename the column `id` -> `old_id`"
      ]
    },
    {
      "cell_type": "markdown",
      "metadata": {
        "id": "KeM0HvOfzO5F",
        "colab_type": "text"
      },
      "source": [
        "I also need to check if there is any duplicated `id` as a sanity check."
      ]
    },
    {
      "cell_type": "code",
      "metadata": {
        "id": "34ws1_J6OHPP",
        "colab_type": "code",
        "colab": {}
      },
      "source": [
        "# Check if there is any duplicated id\n",
        "from pyspark.sql.functions import collect_list, size\n",
        "\n",
        "ddf12.groupBy(ddf12.columns[0]).agg(collect_list(\"id\").alias(\"ids\")).where(size(\"ids\") > 1).show()"
      ],
      "execution_count": 0,
      "outputs": []
    },
    {
      "cell_type": "markdown",
      "metadata": {
        "id": "LGIkVJX3zXH2",
        "colab_type": "text"
      },
      "source": [
        "All good !"
      ]
    },
    {
      "cell_type": "markdown",
      "metadata": {
        "id": "5WHutrdDcolP",
        "colab_type": "text"
      },
      "source": [
        "## Create the data lake"
      ]
    },
    {
      "cell_type": "markdown",
      "metadata": {
        "id": "6UybKwzCzZrE",
        "colab_type": "text"
      },
      "source": [
        "### Intro\n",
        "I decided to take the path of creating a Data Lake (DL) by reading the data from a spark dataset (coming from a CSV in S3) then extract each rows according to the star schema below and write back the data as a parquet file on S3. That will reduce the cost of the infrasctrure by using S3 as a storage, I will be able to partitionate the data for fact table and keep the main datafram intact in the case (real production case) for another process. In a real production process I could also cache the DF but here for speed up the process I will not."
      ]
    },
    {
      "cell_type": "markdown",
      "metadata": {
        "id": "-BwaSKVm1Ea6",
        "colab_type": "text"
      },
      "source": [
        "### Star Schema"
      ]
    },
    {
      "cell_type": "markdown",
      "metadata": {
        "id": "CBcrBwqingnK",
        "colab_type": "text"
      },
      "source": [
        "![image.png](data:image/png;base64,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)"
      ]
    },
    {
      "cell_type": "markdown",
      "metadata": {
        "id": "S1Sl2NXtUnA6",
        "colab_type": "text"
      },
      "source": [
        "### Create a temporary SQL like table of the data to easier load into new table"
      ]
    },
    {
      "cell_type": "code",
      "metadata": {
        "id": "Z42d6mGLexev",
        "colab_type": "code",
        "colab": {}
      },
      "source": [
        "# Output path to S3\n",
        "output_data = 's3a://capstone-dend/DL/'\n",
        "# Create a Temp View to handle the data as an SQL table\n",
        "ddf12.createOrReplaceTempView(\"original_data\")"
      ],
      "execution_count": 0,
      "outputs": []
    },
    {
      "cell_type": "markdown",
      "metadata": {
        "id": "cHABeOy31VGk",
        "colab_type": "text"
      },
      "source": [
        "### Calendar DIM Table"
      ]
    },
    {
      "cell_type": "markdown",
      "metadata": {
        "id": "4xCcliBW2HwC",
        "colab_type": "text"
      },
      "source": [
        "#### Creating the view"
      ]
    },
    {
      "cell_type": "code",
      "metadata": {
        "id": "02btgI7KKzVC",
        "colab_type": "code",
        "colab": {}
      },
      "source": [
        "calendar_table = spark.sql(\"\"\"\n",
        "  SELECT \n",
        "    DISTINCT date,\n",
        "    dayofmonth(date) AS day,\n",
        "    weekofyear(date) AS week,\n",
        "    month(date) AS month,\n",
        "    year(date) AS year,\n",
        "    dayofweek(date) AS weekday\n",
        "  FROM original_data\n",
        "\"\"\")\n",
        "calendar_table.show()"
      ],
      "execution_count": 0,
      "outputs": []
    },
    {
      "cell_type": "markdown",
      "metadata": {
        "id": "EbzrPQZY1flI",
        "colab_type": "text"
      },
      "source": [
        "#### Data quality check"
      ]
    },
    {
      "cell_type": "code",
      "metadata": {
        "id": "uN6kdh4ieZwz",
        "colab_type": "code",
        "colab": {}
      },
      "source": [
        "# Cheking if there is any duplicate value\n",
        "from pyspark.sql.functions import collect_list, size\n",
        "\n",
        "calendar_table.groupBy(calendar_table.columns[0]).agg(collect_list('date').alias(\"dates\")).where(size(\"dates\") > 1).show(20, 50)"
      ],
      "execution_count": 0,
      "outputs": []
    },
    {
      "cell_type": "markdown",
      "metadata": {
        "id": "T5kQOE8o2RYY",
        "colab_type": "text"
      },
      "source": [
        "No duplicate date"
      ]
    },
    {
      "cell_type": "markdown",
      "metadata": {
        "id": "vWa41ftN2Mm2",
        "colab_type": "text"
      },
      "source": [
        "#### Writing to S3 as `.parquet`"
      ]
    },
    {
      "cell_type": "code",
      "metadata": {
        "id": "EA9RpCqo2PfY",
        "colab_type": "code",
        "colab": {}
      },
      "source": [
        "# Write time table to parquet files partitioned by year and month\n",
        "print('Writing calendar_table to S3')\n",
        "calendar_table.write.mode('overwrite').partitionBy(\"year\").parquet(output_data + 'calendar_table/')\n",
        "print('done!')"
      ],
      "execution_count": 0,
      "outputs": []
    },
    {
      "cell_type": "markdown",
      "metadata": {
        "id": "rojLuVLh1ouK",
        "colab_type": "text"
      },
      "source": [
        "### Vendor DIM Table"
      ]
    },
    {
      "cell_type": "markdown",
      "metadata": {
        "id": "e5iS4ZFu2Yh6",
        "colab_type": "text"
      },
      "source": [
        "#### Creating the view"
      ]
    },
    {
      "cell_type": "code",
      "metadata": {
        "id": "ffn9gjtsf0r6",
        "colab_type": "code",
        "colab": {}
      },
      "source": [
        "vendor_table = spark.sql(\"\"\"\n",
        "  SELECT \n",
        "    DISTINCT vendor_number AS id,\n",
        "    vendor_name AS name\n",
        "  FROM original_data\n",
        "\"\"\")"
      ],
      "execution_count": 0,
      "outputs": []
    },
    {
      "cell_type": "markdown",
      "metadata": {
        "id": "nsc3jIRw2fsn",
        "colab_type": "text"
      },
      "source": [
        "#### Data quality check"
      ]
    },
    {
      "cell_type": "code",
      "metadata": {
        "id": "5pQHqRFL2rdC",
        "colab_type": "code",
        "colab": {}
      },
      "source": [
        "vendor_table.groupBy(vendor_table.columns[0]).agg(collect_list('id').alias(\"ids\")).where(size(\"ids\") > 1).show(20, 50)"
      ],
      "execution_count": 0,
      "outputs": []
    },
    {
      "cell_type": "markdown",
      "metadata": {
        "id": "BBKQqHoeNVP4",
        "colab_type": "text"
      },
      "source": [
        "Here I have some duplicate values.\n",
        "I will drop them and keep the first row as valid"
      ]
    },
    {
      "cell_type": "code",
      "metadata": {
        "id": "v9fdPUP_NcMI",
        "colab_type": "code",
        "colab": {}
      },
      "source": [
        "vendor_dropD = vendor_table.dropDuplicates(['id'])\n",
        "vendor_dropD.groupBy(vendor_dropD.columns[0]).agg(collect_list('id').alias(\"ids\")).where(size(\"ids\") > 1).show(20, 50)"
      ],
      "execution_count": 0,
      "outputs": []
    },
    {
      "cell_type": "markdown",
      "metadata": {
        "id": "0OpTJ7wL3TN9",
        "colab_type": "text"
      },
      "source": [
        "#### Writing to S3"
      ]
    },
    {
      "cell_type": "code",
      "metadata": {
        "id": "4hd06SV13XPu",
        "colab_type": "code",
        "colab": {}
      },
      "source": [
        "# Write vendor table to parquet files\n",
        "print('Writing vendor_table to S3')\n",
        "vendor_dropD.write.mode('overwrite').parquet(output_data + 'vendor_table/')\n",
        "print('done!')"
      ],
      "execution_count": 0,
      "outputs": []
    },
    {
      "cell_type": "markdown",
      "metadata": {
        "id": "AFNuZbyp3ji1",
        "colab_type": "text"
      },
      "source": [
        "### County DIM Table"
      ]
    },
    {
      "cell_type": "markdown",
      "metadata": {
        "id": "f_o-LFix3nlg",
        "colab_type": "text"
      },
      "source": [
        "#### Creating the view"
      ]
    },
    {
      "cell_type": "code",
      "metadata": {
        "id": "ma4SApN_idkZ",
        "colab_type": "code",
        "colab": {}
      },
      "source": [
        "county_table = spark.sql(\"\"\"\n",
        "  SELECT \n",
        "    DISTINCT county_number AS id,\n",
        "    county AS name\n",
        "  FROM original_data\n",
        "\"\"\")"
      ],
      "execution_count": 0,
      "outputs": []
    },
    {
      "cell_type": "markdown",
      "metadata": {
        "id": "8it7p9aH3seJ",
        "colab_type": "text"
      },
      "source": [
        "#### Data quality check"
      ]
    },
    {
      "cell_type": "code",
      "metadata": {
        "id": "rgAYWQgA3vlH",
        "colab_type": "code",
        "colab": {}
      },
      "source": [
        "county_table.groupBy(county_table.columns[0]).agg(collect_list('id').alias(\"ids\")).where(size(\"ids\") > 1).show(20, 50)"
      ],
      "execution_count": 0,
      "outputs": []
    },
    {
      "cell_type": "markdown",
      "metadata": {
        "id": "coNGfrYUOOoN",
        "colab_type": "text"
      },
      "source": [
        "Duplicate here too to handle."
      ]
    },
    {
      "cell_type": "code",
      "metadata": {
        "id": "bWkWZgk4ORUO",
        "colab_type": "code",
        "colab": {}
      },
      "source": [
        "county_dropD = county_table.dropDuplicates(['id'])\n",
        "county_dropD.groupBy(county_dropD.columns[0]).agg(collect_list('id').alias(\"ids\")).where(size(\"ids\") > 1).show(20, 50)"
      ],
      "execution_count": 0,
      "outputs": []
    },
    {
      "cell_type": "markdown",
      "metadata": {
        "id": "l7dkc3X13_j9",
        "colab_type": "text"
      },
      "source": [
        "#### Writing to S3"
      ]
    },
    {
      "cell_type": "code",
      "metadata": {
        "id": "VQIKpVku4Bhj",
        "colab_type": "code",
        "colab": {}
      },
      "source": [
        "# Write county table to parquet files\n",
        "print('Writing county_table to S3')\n",
        "county_dropD.write.mode('overwrite').parquet(output_data + 'county_table/')\n",
        "print('done!')"
      ],
      "execution_count": 0,
      "outputs": []
    },
    {
      "cell_type": "markdown",
      "metadata": {
        "id": "0oXHlKWR4FMm",
        "colab_type": "text"
      },
      "source": [
        "### Store Table"
      ]
    },
    {
      "cell_type": "markdown",
      "metadata": {
        "id": "aTL-r-sO-6rt",
        "colab_type": "text"
      },
      "source": [
        "#### Creating the view"
      ]
    },
    {
      "cell_type": "code",
      "metadata": {
        "id": "8H5WrSoNk_iG",
        "colab_type": "code",
        "colab": {}
      },
      "source": [
        "store_table = spark.sql(\"\"\"\n",
        "  SELECT \n",
        "    DISTINCT store_number AS id,\n",
        "    store_name AS name,\n",
        "    address,\n",
        "    city,\n",
        "    zip_code\n",
        "  FROM original_data\n",
        "\"\"\")"
      ],
      "execution_count": 0,
      "outputs": []
    },
    {
      "cell_type": "markdown",
      "metadata": {
        "id": "cZvJaoWD--GW",
        "colab_type": "text"
      },
      "source": [
        "#### Data quality check"
      ]
    },
    {
      "cell_type": "code",
      "metadata": {
        "id": "7V_dMPWW_A_3",
        "colab_type": "code",
        "colab": {}
      },
      "source": [
        "store_table.groupBy(store_table.columns[0]).agg(collect_list('id').alias(\"ids\")).where(size(\"ids\") > 1).show(20, 50)"
      ],
      "execution_count": 0,
      "outputs": []
    },
    {
      "cell_type": "markdown",
      "metadata": {
        "id": "Sim_5vwR_YE_",
        "colab_type": "text"
      },
      "source": [
        "Here I can see that I have duplicate rows. By looking deeper I can see that it's just typo or lower/uppercase for some identical values. I will drop the duplicate and keep the first `store_id` rows find."
      ]
    },
    {
      "cell_type": "code",
      "metadata": {
        "id": "wmHNJrn8LWm9",
        "colab_type": "code",
        "colab": {}
      },
      "source": [
        "store_dropD = store_table.dropDuplicates(['id'])\n",
        "store_dropD.groupBy(store_dropD.columns[0]).agg(collect_list('id').alias(\"ids\")).where(size(\"ids\") > 1).show(20, 50)"
      ],
      "execution_count": 0,
      "outputs": []
    },
    {
      "cell_type": "markdown",
      "metadata": {
        "id": "1ptREa9h_8Qi",
        "colab_type": "text"
      },
      "source": [
        "#### Add lat/lng data from Google Geocoding API"
      ]
    },
    {
      "cell_type": "markdown",
      "metadata": {
        "id": "KGbU24fxAJFM",
        "colab_type": "text"
      },
      "source": [
        "I will add the latitude and longitude info to the data to be able to create map dashboard\n",
        "\n",
        "I will use the Google Geocoding API will the official Google library `googlemaps`\n",
        "\n",
        "For each value I will create a list of dictionnary with the values the API return and the `store_id` to use it as a merging key."
      ]
    },
    {
      "cell_type": "markdown",
      "metadata": {
        "id": "LqZSil2YBaPg",
        "colab_type": "text"
      },
      "source": [
        "##### Creating the query list"
      ]
    },
    {
      "cell_type": "code",
      "metadata": {
        "id": "ZvYN8mM7Yz1f",
        "colab_type": "code",
        "colab": {}
      },
      "source": [
        "query_list = []\n",
        "\n",
        "for row in store_dropD.rdd.collect():\n",
        "  address = row.address\n",
        "  city = row.city\n",
        "  zip_code = row.zip_code\n",
        "  state = 'IA'\n",
        "  country = 'USA'\n",
        "\n",
        "  query = f'{address}, {city}, {zip_code}, {state}, {country}'\n",
        "  query_list.append({\n",
        "      'id': row.id,\n",
        "      'query': query\n",
        "  })\n",
        "\n",
        "# Look at what a row look like\n",
        "print(query_list[0])"
      ],
      "execution_count": 0,
      "outputs": []
    },
    {
      "cell_type": "code",
      "metadata": {
        "id": "QuoygbsZWkj8",
        "colab_type": "code",
        "colab": {}
      },
      "source": [
        "!pip install googlemaps"
      ],
      "execution_count": 0,
      "outputs": []
    },
    {
      "cell_type": "markdown",
      "metadata": {
        "id": "UO49HMdDBfYY",
        "colab_type": "text"
      },
      "source": [
        "##### Get your own API Key"
      ]
    },
    {
      "cell_type": "code",
      "metadata": {
        "id": "8MELysy_FMuw",
        "colab_type": "code",
        "colab": {}
      },
      "source": [
        "# To contact the API you need you own key. You can find how to generate the key (free) here :\n",
        "# https://developers.google.com/maps/documentation/geocoding/get-api-key\n",
        "\n",
        "import googlemaps\n",
        "\n",
        "gmaps = googlemaps.Client(key='XXXxxxXXXxxxXXX')"
      ],
      "execution_count": 0,
      "outputs": []
    },
    {
      "cell_type": "markdown",
      "metadata": {
        "id": "jt1IKIiDBjZ1",
        "colab_type": "text"
      },
      "source": [
        "##### API call parallelized"
      ]
    },
    {
      "cell_type": "code",
      "metadata": {
        "id": "NyoNd9J_-Zn7",
        "colab_type": "code",
        "colab": {}
      },
      "source": [
        "import multiprocessing as mp\n",
        "\n",
        "def geocoding(row):\n",
        "  attempts = 0\n",
        "  success = False\n",
        "\n",
        "  while success != True and attempts < 3:\n",
        "    attempts += 1\n",
        "    geocode_result = gmaps.geocode(row['query'])\n",
        "    print(geocode_result)\n",
        "    if (len(geocode_result) > 0):\n",
        "      return {\n",
        "          'id': row['id'],\n",
        "          'lat': geocode_result[0]['geometry']['location']['lat'],\n",
        "          'lng': geocode_result[0]['geometry']['location']['lng']\n",
        "      }\n",
        "    success = True\n",
        "  \n",
        "  if attempts == 3:\n",
        "    # send an alert as this means that the daily limit has been reached\n",
        "    print(\"Daily limit has been reached\")\n",
        "\n",
        "pool = mp.Pool(mp.cpu_count() - 1)\n",
        "geocode_list = pool.map(geocoding, query_list)\n",
        "pool.close()\n",
        "pool.join()\n",
        "\n",
        "print(geocode_list[0])"
      ],
      "execution_count": 0,
      "outputs": []
    },
    {
      "cell_type": "markdown",
      "metadata": {
        "id": "5vW3LhlkB3xT",
        "colab_type": "text"
      },
      "source": [
        "##### List to DF"
      ]
    },
    {
      "cell_type": "code",
      "metadata": {
        "id": "zM2LJyXneIpF",
        "colab_type": "code",
        "colab": {}
      },
      "source": [
        "# Convert to DF and merge the data.\n",
        "\n",
        "temp_df = pd.DataFrame(geocode_list)\n",
        "geocode_df = spark.createDataFrame(temp_df)\n",
        "\n",
        "geocode_df.show(20, 50)"
      ],
      "execution_count": 0,
      "outputs": []
    },
    {
      "cell_type": "markdown",
      "metadata": {
        "id": "J0XHgt_UB7MD",
        "colab_type": "text"
      },
      "source": [
        "##### Merging the DF"
      ]
    },
    {
      "cell_type": "code",
      "metadata": {
        "id": "T6_ku8HkQiE6",
        "colab_type": "code",
        "colab": {}
      },
      "source": [
        "\n",
        "g = geocode_df.alias('g')\n",
        "s = store_dropD.alias('s') \n",
        "store_augmented = s.join(g, s.id == g.id)\n",
        "store_augmented.show(20, 50)"
      ],
      "execution_count": 0,
      "outputs": []
    },
    {
      "cell_type": "markdown",
      "metadata": {
        "id": "0CoVxwC2_s-g",
        "colab_type": "text"
      },
      "source": [
        "#### Writing to S3"
      ]
    },
    {
      "cell_type": "code",
      "metadata": {
        "id": "7PtAQPTpF-BO",
        "colab_type": "code",
        "colab": {}
      },
      "source": [
        "# Write store table table to parquet files\n",
        "print('Writing store_table to S3')\n",
        "store_augmented.write.mode('overwrite').parquet(output_data + 'store_table/')\n",
        "print('done!')"
      ],
      "execution_count": 0,
      "outputs": []
    },
    {
      "cell_type": "markdown",
      "metadata": {
        "id": "Rbhsv0xCCEPL",
        "colab_type": "text"
      },
      "source": [
        "### Category Table"
      ]
    },
    {
      "cell_type": "markdown",
      "metadata": {
        "id": "gmTBx-ZxCkD7",
        "colab_type": "text"
      },
      "source": [
        "#### Creating the view"
      ]
    },
    {
      "cell_type": "code",
      "metadata": {
        "id": "Qh_EQlhQnIiR",
        "colab_type": "code",
        "colab": {}
      },
      "source": [
        "from pyspark.sql.functions import monotonically_increasing_id\n",
        "\n",
        "category_table = spark.sql(\"\"\"\n",
        "  SELECT\n",
        "    DISTINCT category AS number,\n",
        "    category_name AS name\n",
        "  FROM original_data\n",
        "\"\"\")\n",
        "\n",
        "# Add another id system\n",
        "category_table = category_table.withColumn(\"id\", monotonically_increasing_id())"
      ],
      "execution_count": 0,
      "outputs": []
    },
    {
      "cell_type": "markdown",
      "metadata": {
        "id": "nWjn8YhUCRDt",
        "colab_type": "text"
      },
      "source": [
        "#### Data quality check"
      ]
    },
    {
      "cell_type": "code",
      "metadata": {
        "id": "S98794hnCTvM",
        "colab_type": "code",
        "colab": {}
      },
      "source": [
        "category_table.groupBy(category_table.columns[0]).agg(collect_list('id').alias(\"ids\")).where(size(\"ids\") > 1).show(20, 50)"
      ],
      "execution_count": 0,
      "outputs": []
    },
    {
      "cell_type": "markdown",
      "metadata": {
        "id": "2KO2kJiZCMtE",
        "colab_type": "text"
      },
      "source": [
        "#### Writing to S3"
      ]
    },
    {
      "cell_type": "code",
      "metadata": {
        "id": "k_RE2Vs9CPGR",
        "colab_type": "code",
        "colab": {}
      },
      "source": [
        "# Write category table to parquet files\n",
        "print('Writing category_table to S3')\n",
        "category_table.write.mode('overwrite').parquet(output_data + 'category_table/')\n",
        "print('done!')"
      ],
      "execution_count": 0,
      "outputs": []
    },
    {
      "cell_type": "markdown",
      "metadata": {
        "id": "HPjNSu2jCuc7",
        "colab_type": "text"
      },
      "source": [
        "### Product Table"
      ]
    },
    {
      "cell_type": "markdown",
      "metadata": {
        "id": "AsmAZZbDCx9p",
        "colab_type": "text"
      },
      "source": [
        "#### Creating the view"
      ]
    },
    {
      "cell_type": "code",
      "metadata": {
        "id": "sODTjaJkoTVB",
        "colab_type": "code",
        "colab": {}
      },
      "source": [
        "product_table = spark.sql(\"\"\"\n",
        "  SELECT \n",
        "    DISTINCT item_number AS id,\n",
        "    item_description AS description,\n",
        "    pack,\n",
        "    bottle_volume_ml,\n",
        "    state_bottle_cost,\n",
        "    state_bottle_retail\n",
        "  FROM original_data\n",
        "\"\"\")\n",
        "product_table.show()"
      ],
      "execution_count": 0,
      "outputs": []
    },
    {
      "cell_type": "markdown",
      "metadata": {
        "id": "6mMIF9VmC4nh",
        "colab_type": "text"
      },
      "source": [
        "#### Data quality check"
      ]
    },
    {
      "cell_type": "code",
      "metadata": {
        "id": "T1yB9zFTC68u",
        "colab_type": "code",
        "colab": {}
      },
      "source": [
        "product_table.groupBy(product_table.columns[0]).agg(collect_list('id').alias(\"ids\")).where(size(\"ids\") > 1).show(20, 50)"
      ],
      "execution_count": 0,
      "outputs": []
    },
    {
      "cell_type": "markdown",
      "metadata": {
        "id": "Svaik8UsRKEW",
        "colab_type": "text"
      },
      "source": [
        "Oops ! Duplicated data here too."
      ]
    },
    {
      "cell_type": "code",
      "metadata": {
        "id": "KB9qKDBcRNjQ",
        "colab_type": "code",
        "colab": {}
      },
      "source": [
        "product_dropD = product_table.dropDuplicates(['id'])\n",
        "product_dropD.groupBy(product_dropD.columns[0]).agg(collect_list('id').alias(\"ids\")).where(size(\"ids\") > 1).show(20, 50)"
      ],
      "execution_count": 0,
      "outputs": []
    },
    {
      "cell_type": "markdown",
      "metadata": {
        "id": "G0x_q54iC1eE",
        "colab_type": "text"
      },
      "source": [
        "#### Writing to S3"
      ]
    },
    {
      "cell_type": "code",
      "metadata": {
        "id": "QllBOZ4lC3tb",
        "colab_type": "code",
        "colab": {}
      },
      "source": [
        "# Write product table to parquet files\n",
        "print('Writing product_table to S3')\n",
        "product_dropD.write.mode('overwrite').parquet(output_data + 'product_table/')\n",
        "print('done!')"
      ],
      "execution_count": 0,
      "outputs": []
    },
    {
      "cell_type": "markdown",
      "metadata": {
        "id": "DGRZlUApDPWu",
        "colab_type": "text"
      },
      "source": [
        "### Sales Fact Table"
      ]
    },
    {
      "cell_type": "markdown",
      "metadata": {
        "id": "jsLJlNg5DScF",
        "colab_type": "text"
      },
      "source": [
        "#### Getting the Data"
      ]
    },
    {
      "cell_type": "code",
      "metadata": {
        "id": "2bwSlSf1uAJh",
        "colab_type": "code",
        "colab": {}
      },
      "source": [
        "# Create sale table - let's do it with function instead\n",
        "sale_table = ddf12.alias('o').join(category_table.alias('c'), (col('c.number') == col('o.category')) & (col('c.name') == col('o.category_name')), how='left')\\\n",
        "            .select(col('o.id'), col('o.date'), col('o.store_number').alias('store_id'), col('o.county_number').alias('county_id'), col('o.vendor_number').alias('vendor_id'), col('o.item_number').alias('product_id'), col('c.id').alias('category_id'), col('o.sale'))"
      ],
      "execution_count": 0,
      "outputs": []
    },
    {
      "cell_type": "markdown",
      "metadata": {
        "id": "1wYlXBUfDrdW",
        "colab_type": "text"
      },
      "source": [
        "#### Add secondary `id` system and `old_id` column"
      ]
    },
    {
      "cell_type": "code",
      "metadata": {
        "id": "Q04X7hAVD0HN",
        "colab_type": "code",
        "colab": {}
      },
      "source": [
        "# Renaming id -> old_id\n",
        "sale_table2 = sale_table.withColumnRenamed('id', 'original_id')\n",
        "\n",
        "# Add another id system\n",
        "sale_table_final = sale_table2.withColumn(\"id\", monotonically_increasing_id())\n",
        "\n",
        "sale_table_final.show()"
      ],
      "execution_count": 0,
      "outputs": []
    },
    {
      "cell_type": "markdown",
      "metadata": {
        "id": "GrDYR4HPDZ-u",
        "colab_type": "text"
      },
      "source": [
        "#### Data quality check"
      ]
    },
    {
      "cell_type": "markdown",
      "metadata": {
        "id": "f8LRqE-3DeDp",
        "colab_type": "text"
      },
      "source": [
        "#### Writing to S3"
      ]
    },
    {
      "cell_type": "code",
      "metadata": {
        "id": "SO4ewCt-Dhgr",
        "colab_type": "code",
        "colab": {}
      },
      "source": [
        "# Write sale table to parquet files\n",
        "print('Writing sale_table to S3')\n",
        "sale_table_final.write.mode('overwrite').parquet(output_data + 'sale_fact_table/')\n",
        "print('done!')"
      ],
      "execution_count": 0,
      "outputs": []
    }
  ]
}